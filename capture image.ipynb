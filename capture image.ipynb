{
 "cells": [
  {
   "cell_type": "code",
   "execution_count": null,
   "metadata": {},
   "outputs": [],
   "source": [
    "import cv2\n",
    "import numpy as np\n",
    "import pickle, os, sqlite3, random\n"
   ]
  },
  {
   "cell_type": "code",
   "execution_count": null,
   "metadata": {},
   "outputs": [],
   "source": [
    "image_x, image_y = 50, 50"
   ]
  },
  {
   "cell_type": "code",
   "execution_count": null,
   "metadata": {},
   "outputs": [],
   "source": [
    "def get_hand_hist():\n",
    "    with open(\"hist\", \"rb\") as f:\n",
    "        hist = pickle.load(f)\n",
    "    return hist"
   ]
  },
  {
   "cell_type": "code",
   "execution_count": null,
   "metadata": {},
   "outputs": [],
   "source": [
    "\n",
    "def init_create_folder_database():\n",
    "    if not os.path.exists(\"D:\"):\n",
    "        os.mkdir(\"gestures\")\n",
    "    if not os.path.exists(\"gesture_db.db\"):\n",
    "        conn = sqlite3.connect(\"gesture_db.db\")\n",
    "        create_table_cmd = \"CREATE TABLE gesture ( g_id INTEGER NOT NULL PRIMARY KEY AUTOINCREMENT UNIQUE, g_name TEXT NOT NULL )\"\n",
    "        conn.execute(create_table_cmd)\n",
    "        conn.commit()"
   ]
  },
  {
   "cell_type": "code",
   "execution_count": null,
   "metadata": {},
   "outputs": [],
   "source": [
    "def create_folder(folder_name):\n",
    "    if not os.path.exists(folder_name):\n",
    "        os.mkdir(folder_name)"
   ]
  },
  {
   "cell_type": "code",
   "execution_count": null,
   "metadata": {},
   "outputs": [],
   "source": [
    "def store_in_db(g_id, g_name):\n",
    "\tconn = sqlite3.connect(\"gesture_db.db\")\n",
    "\tcmd = \"INSERT INTO gesture (g_id, g_name) VALUES (%s, \\'%s\\')\" % (g_id, g_name)\n",
    "\ttry:\n",
    "\t\tconn.execute(cmd)\n",
    "\texcept sqlite3.IntegrityError:\n",
    "\t\tchoice = input(\"g_id already exists. Want to change the record? (y/n): \")\n",
    "\t\tif choice.lower() == 'y':\n",
    "\t\t\tcmd = \"UPDATE gesture SET g_name = \\'%s\\' WHERE g_id = %s\" % (g_name, g_id)\n",
    "\t\t\tconn.execute(cmd)\n",
    "\t\telse:\n",
    "\t\t\tprint(\"Doing nothing...\")\n",
    "\t\t\treturn\n",
    "\tconn.commit()"
   ]
  },
  {
   "cell_type": "code",
   "execution_count": null,
   "metadata": {
    "scrolled": true
   },
   "outputs": [],
   "source": [
    "def store_images(g_id):\n",
    "\ttotal_pics = 1200\n",
    "\thist = get_hand_hist()\n",
    "\tcam = cv2.VideoCapture(1)\n",
    "\tif cam.read()[0]==False:\n",
    "\t\tcam = cv2.VideoCapture(0)\n",
    "\tx, y, w, h = 300, 100, 300, 300\n",
    "\n",
    "\tcreate_folder(\"D:\"+str(g_id))\n",
    "\tpic_no = 0\n",
    "\tflag_start_capturing = False\n",
    "\tframes = 0\n",
    "\t\n",
    "\twhile True:\n",
    "\t\timg = cam.read()[1]\n",
    "\t\timg = cv2.flip(img, 1)\n",
    "\t\timgHSV = cv2.cvtColor(img, cv2.COLOR_BGR2HSV)\n",
    "\t\tdst = cv2.calcBackProject([imgHSV], [0, 1], hist, [0, 180, 0, 256], 1)\n",
    "\t\tdisc = cv2.getStructuringElement(cv2.MORPH_ELLIPSE,(10,10))\n",
    "\t\tcv2.filter2D(dst,-1,disc,dst)\n",
    "\t\tblur = cv2.GaussianBlur(dst, (11,11), 0)\n",
    "\t\tblur = cv2.medianBlur(blur, 15)\n",
    "\t\tthresh = cv2.threshold(blur,0,255,cv2.THRESH_BINARY+cv2.THRESH_OTSU)[1]\n",
    "\t\tthresh = cv2.merge((thresh,thresh,thresh))\n",
    "\t\tthresh = cv2.cvtColor(thresh, cv2.COLOR_BGR2GRAY)\n",
    "\t\tthresh = thresh[y:y+h, x:x+w]\n",
    "\t\tcontours = cv2.findContours(thresh.copy(), cv2.RETR_TREE, cv2.CHAIN_APPROX_NONE)[1]\n",
    "\n",
    "\t\tif len(contours) > 0:\n",
    "\t\t\tcontour = max(contours, key = cv2.contourArea)\n",
    "\t\t\tif cv2.contourArea(contour) > 10000 and frames > 50:\n",
    "\t\t\t\tx1, y1, w1, h1 = cv2.boundingRect(contour)\n",
    "\t\t\t\tpic_no += 1\n",
    "\t\t\t\tsave_img = thresh[y1:y1+h1, x1:x1+w1]\n",
    "\t\t\t\tif w1 > h1:\n",
    "\t\t\t\t\tsave_img = cv2.copyMakeBorder(save_img, int((w1-h1)/2) , int((w1-h1)/2) , 0, 0, cv2.BORDER_CONSTANT, (0, 0, 0))\n",
    "\t\t\t\telif h1 > w1:\n",
    "\t\t\t\t\tsave_img = cv2.copyMakeBorder(save_img, 0, 0, int((h1-w1)/2) , int((h1-w1)/2) , cv2.BORDER_CONSTANT, (0, 0, 0))\n",
    "\t\t\t\tsave_img = cv2.resize(save_img, (image_x, image_y))\n",
    "\t\t\t\trand = random.randint(0, 10)\n",
    "\t\t\t\tif rand % 2 == 0:\n",
    "\t\t\t\t\tsave_img = cv2.flip(save_img, 1)\n",
    "\t\t\t\tcv2.putText(img, \"Capturing...\", (30, 60), cv2.FONT_HERSHEY_TRIPLEX, 2, (127, 255, 255))\n",
    "\t\t\t\tcv2.imwrite(\"gestures/\"+str(g_id)+\"/\"+str(pic_no)+\".jpg\", save_img)\n",
    "\n",
    "\t\tcv2.rectangle(img, (x,y), (x+w, y+h), (0,255,0), 2)\n",
    "\t\tcv2.putText(img, str(pic_no), (30, 400), cv2.FONT_HERSHEY_TRIPLEX, 1.5, (127, 127, 255))\n",
    "\t\tcv2.imshow(\"D:\", img)\n",
    "\t\tcv2.imshow(\"D:\", thresh)\n",
    "\t\tkeypress = cv2.waitKey(1)\n",
    "\t\tif keypress == ord('c'):\n",
    "\t\t\tif flag_start_capturing == False:\n",
    "\t\t\t\tflag_start_capturing = True\n",
    "\t\t\telse:\n",
    "\t\t\t\tflag_start_capturing = False\n",
    "\t\t\t\tframes = 0\n",
    "\t\tif flag_start_capturing == True:\n",
    "\t\t\tframes += 1\n",
    "\t\tif pic_no == total_pics:\n",
    "\t\t\tbreak\n",
    "\n",
    "init_create_folder_database()\n",
    "g_id = input(\"Enter gesture no.: \")\n",
    "g_name = input(\"Enter gesture name/text: \")\n",
    "store_in_db(g_id, g_name)\n",
    "store_images(g_id)"
   ]
  },
  {
   "cell_type": "code",
   "execution_count": null,
   "metadata": {},
   "outputs": [],
   "source": []
  }
 ],
 "metadata": {
  "kernelspec": {
   "display_name": "Python 3",
   "language": "python",
   "name": "python3"
  },
  "language_info": {
   "codemirror_mode": {
    "name": "ipython",
    "version": 3
   },
   "file_extension": ".py",
   "mimetype": "text/x-python",
   "name": "python",
   "nbconvert_exporter": "python",
   "pygments_lexer": "ipython3",
   "version": "3.7.1"
  }
 },
 "nbformat": 4,
 "nbformat_minor": 2
}
