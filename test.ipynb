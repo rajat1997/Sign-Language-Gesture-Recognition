{
 "cells": [
  {
   "cell_type": "code",
   "execution_count": null,
   "metadata": {},
   "outputs": [],
   "source": [
    "import cv2, pickle\n",
    "import numpy as np\n",
    "import tensorflow as tf\n",
    "import os\n",
    "import sqlite3\n",
    "from keras.models import load_model\n",
    "from train import cnn_model_fn"
   ]
  },
  {
   "cell_type": "code",
   "execution_count": null,
   "metadata": {},
   "outputs": [],
   "source": [
    "os.environ['TF_CPP_MIN_LOG_LEVEL'] = '3'\n",
    "tf.logging.set_verbosity(tf.logging.ERROR)\n",
    "classifier = tf.estimator.Estimator(model_dir=\"tmp/cnn_model2\", model_fn=cnn_model_fn)\n",
    "prediction = None\n",
    "model = load_model('cnn_model_keras2.h5')"
   ]
  },
  {
   "cell_type": "code",
   "execution_count": null,
   "metadata": {},
   "outputs": [],
   "source": [
    "def get_image_size():\n",
    "    img = cv2.imread('gestures/0/100.jpg', 0)\n",
    "    return img\n",
    "\n",
    "image_x = get_image_size()\n",
    "image_y = get_image_size()\n"
   ]
  },
  {
   "cell_type": "code",
   "execution_count": null,
   "metadata": {},
   "outputs": [],
   "source": [
    "def tf_process_image(img):\n",
    "    img = cv2.resize(img, (image_x, image_y))\n",
    "    img = np.array(img, dtype=np.float32)\n",
    "    np_array = np.array(img)\n",
    "    return np_array"
   ]
  },
  {
   "cell_type": "code",
   "execution_count": null,
   "metadata": {},
   "outputs": [],
   "source": [
    "def tf_predict(classifier, image):\n",
    "\n",
    "    global prediction\n",
    "    processed_array = tf_process_image(image)\n",
    "    pred_input_fn = tf.estimator.inputs.numpy_input_fn(x={\"x\":processed_array}, shuffle=False)\n",
    "    pred = classifier.predict(input_fn=pred_input_fn)\n",
    "    prediction = next(pred)\n",
    "    print(prediction)"
   ]
  },
  {
   "cell_type": "code",
   "execution_count": null,
   "metadata": {},
   "outputs": [],
   "source": [
    "\n",
    "def keras_process_image(img):\n",
    "    image_x, image_y = 50, 50\n",
    "    img = cv2.resize(img, (image_x, image_y))\n",
    "    img = np.array(img, dtype=np.float32)\n",
    "    img = np.reshape(img, (1, image_x, image_y, 1))\n",
    "    return img"
   ]
  },
  {
   "cell_type": "code",
   "execution_count": null,
   "metadata": {},
   "outputs": [],
   "source": [
    "def keras_predict(model, image):\n",
    "    processed = keras_process_image(image)\n",
    "    pred_probab = model.predict(processed)[0]\n",
    "    pred_class = list(pred_probab).index(max(pred_probab))\n",
    "    return max(pred_probab), pred_class"
   ]
  },
  {
   "cell_type": "code",
   "execution_count": null,
   "metadata": {},
   "outputs": [],
   "source": [
    "\n",
    "def get_pred_text_from_db(pred_class):\n",
    "    conn = sqlite3.connect(\"gesture_db.db\")\n",
    "    cmd = \"SELECT g_name FROM gesture WHERE g_id=\"+str(pred_class)\n",
    "    cursor = conn.execute(cmd)\n",
    "    for row in cursor:\n",
    "        return row[0]\n"
   ]
  },
  {
   "cell_type": "code",
   "execution_count": null,
   "metadata": {},
   "outputs": [],
   "source": [
    "def split_sentence(text, num_of_words):\n",
    "\n",
    "    list_words = text.split(\" \")\n",
    "    length = len(list_words)\n",
    "    splitted_sentence = []\n",
    "    b_index = 0\n",
    "    e_index = num_of_words\n",
    "    while length > 0:\n",
    "        part = \"\"\n",
    "        for word in list_words[b_index:e_index]:\n",
    "            part = part + \" \" + word\n",
    "        splitted_sentence.append(part)\n",
    "        b_index += num_of_words\n",
    "        e_index += num_of_words\n",
    "        length -= num_of_words\n",
    "    return splitted_sentence"
   ]
  },
  {
   "cell_type": "code",
   "execution_count": null,
   "metadata": {},
   "outputs": [],
   "source": [
    "def put_splitted_text_in_blackboard(blackboard, splitted_text):\n",
    "    y = 200\n",
    "    for text in splitted_text:\n",
    "        cv2.putText(blackboard, text, (4, y), cv2.FONT_HERSHEY_TRIPLEX, 2, (255, 255, 255))\n",
    "        y += 50"
   ]
  },
  {
   "cell_type": "code",
   "execution_count": null,
   "metadata": {},
   "outputs": [],
   "source": [
    "def get_hand_hist():\n",
    "    with open(\"hist\", \"rb\") as f:\n",
    "        hist = pickle.load(f)\n",
    "    return hist"
   ]
  },
  {
   "cell_type": "code",
   "execution_count": null,
   "metadata": {},
   "outputs": [],
   "source": [
    "def recognize():\n",
    "\tglobal prediction\n",
    "\tcam = cv2.VideoCapture(1)\n",
    "\tif cam.read()[0] == False:\n",
    "\t\tcam = cv2.VideoCapture(0)\n",
    "\thist = get_hand_hist()\n",
    "\tx, y, w, h = 300, 100, 300, 300\n",
    "\twhile True:\n",
    "\t\ttext = \"\"\n",
    "\t\timg = cam.read()[1]\n",
    "\t\timg = cv2.flip(img, 1)\n",
    "\t\timg = cv2.resize(img, (640, 480))\n",
    "\t\timgCrop = img[y:y+h, x:x+w]\n",
    "\t\timgHSV = cv2.cvtColor(img, cv2.COLOR_BGR2HSV)\n",
    "\t\tdst = cv2.calcBackProject([imgHSV], [0, 1], hist, [0, 180, 0, 256], 1)\n",
    "\t\tdisc = cv2.getStructuringElement(cv2.MORPH_ELLIPSE,(10,10))\n",
    "\t\tcv2.filter2D(dst,-1,disc,dst)\n",
    "\t\tblur = cv2.GaussianBlur(dst, (11,11), 0)\n",
    "\t\tblur = cv2.medianBlur(blur, 15)\n",
    "\t\tthresh = cv2.threshold(blur,0,255,cv2.THRESH_BINARY+cv2.THRESH_OTSU)[1]\n",
    "\t\tthresh = cv2.merge((thresh,thresh,thresh))\n",
    "\t\tthresh = cv2.cvtColor(thresh, cv2.COLOR_BGR2GRAY)\n",
    "\t\tthresh = thresh[y:y+h, x:x+w]\n",
    "\t\tcontours = cv2.findContours(thresh.copy(), cv2.RETR_TREE, cv2.CHAIN_APPROX_NONE)[0]\n",
    "\t\tif len(contours) > 0:\n",
    "\t\t\tcontour = max(contours, key = cv2.contourArea)\n",
    "\t\t\tif cv2.contourArea(contour) > 10000:\n",
    "\t\t\t\tx1, y1, w1, h1 = cv2.boundingRect(contour)\n",
    "\t\t\t\tsave_img = thresh[y1:y1+h1, x1:x1+w1]\n",
    "\t\t\t\tif w1 > h1:\n",
    "\t\t\t\t\tsave_img = cv2.copyMakeBorder(save_img, int((w1-h1)/2) , int((w1-h1)/2) , 0, 0, cv2.BORDER_CONSTANT, (0, 0, 0))\n",
    "\t\t\t\telif h1 > w1:\n",
    "\t\t\t\t\tsave_img = cv2.copyMakeBorder(save_img, 0, 0, int((h1-w1)/2) , int((h1-w1)/2) , cv2.BORDER_CONSTANT, (0, 0, 0))\n",
    "\t\t\t\t\n",
    "\t\t\t\tpred_probab, pred_class = keras_predict(model, save_img)\n",
    "\t\t\t\t\n",
    "\t\t\t\tif pred_probab*100 > 80:\n",
    "\t\t\t\t\ttext = get_pred_text_from_db(pred_class)\n",
    "\t\t\t\t\tprint(text)\n",
    "\t\tblackboard = np.zeros((480, 640, 3), dtype=np.uint8)\n",
    "\t\tsplitted_text = split_sentence(text, 2)\n",
    "\t\tput_splitted_text_in_blackboard(blackboard, splitted_text)\n",
    "\t\tcv2.putText(blackboard, text, (30, 200), cv2.FONT_HERSHEY_TRIPLEX, 1.3, (255, 255, 255))\n",
    "\t\tcv2.rectangle(img, (x,y), (x+w, y+h), (0,255,0), 2)\n",
    "\t\tres = np.hstack((img, blackboard))\n",
    "\t\tcv2.imshow(\"Recognizing gesture\", res)\n",
    "\t\tcv2.imshow(\"thresh\", thresh)\n",
    "\t\tif cv2.waitKey(1) == ord('q'):\n",
    "\t\t\tbreak\n",
    "\n",
    "keras_predict(model, np.zeros((50, 50), dtype=np.uint8))\n",
    "recognize()"
   ]
  },
  {
   "cell_type": "code",
   "execution_count": null,
   "metadata": {},
   "outputs": [],
   "source": []
  },
  {
   "cell_type": "code",
   "execution_count": null,
   "metadata": {},
   "outputs": [],
   "source": []
  }
 ],
 "metadata": {
  "kernelspec": {
   "display_name": "Python 3",
   "language": "python",
   "name": "python3"
  },
  "language_info": {
   "codemirror_mode": {
    "name": "ipython",
    "version": 3
   },
   "file_extension": ".py",
   "mimetype": "text/x-python",
   "name": "python",
   "nbconvert_exporter": "python",
   "pygments_lexer": "ipython3",
   "version": "3.7.1"
  }
 },
 "nbformat": 4,
 "nbformat_minor": 2
}
