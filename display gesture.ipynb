{
 "cells": [
  {
   "cell_type": "code",
   "execution_count": null,
   "metadata": {},
   "outputs": [],
   "source": [
    "import cv2, os, random\n",
    "import numpy as np\n",
    "\n",
    "import matplotlib\n",
    "import pandas"
   ]
  },
  {
   "cell_type": "code",
   "execution_count": null,
   "metadata": {},
   "outputs": [],
   "source": [
    "def get_image_size():\n",
    "\timg = cv2.imread('PATH', 0)\n",
    "\treturn img.shape\n",
    "\n",
    "gestures = os.listdir('D:\\SLR')\n",
    "gestures.sort(key = int)\n",
    "begin_index = 0\n",
    "end_index = 5\n",
    "image_x = get_image_size()\n",
    "image_y = get_image_size()\n",
    "\n",
    "if len(gestures)%5 != 0:\n",
    "\trows = int(len(gestures)/5)+1\n",
    "else:\n",
    "\trows = int(len(gestures)/5)\n",
    "\n",
    "full_img = None\n",
    "for i in range(rows):\n",
    "\tcol_img = None\n",
    "\tfor j in range(begin_index, end_index):\n",
    "\t\timg_path = \"gestures/%s/%d.jpg\" % (j, random.randint(1, 1200))\n",
    "\t\timg = cv2.imread(img_path, 0)\n",
    "\t\tif np.any(col_img == None):\n",
    "\t\t\tcol_img = img\n",
    "\t\telse:\n",
    "\t\t\tcol_img = np.hstack((col_img, img))\n",
    "\n",
    "\tbegin_index += 5\n",
    "\tend_index += 5\n",
    "\tif np.any(full_img == None):\n",
    "\t\tfull_img = col_img\n",
    "\telse:\n",
    "\t\tfull_img = np.vstack((full_img, col_img))\n",
    "\n",
    "\n",
    "cv2.imshow(\"gestures\", full_img)\n",
    "cv2.imwrite('full_img.jpg', full_img)\n",
    "cv2.waitKey(0)"
   ]
  }
 ],
 "metadata": {
  "kernelspec": {
   "display_name": "Python 3",
   "language": "python",
   "name": "python3"
  },
  "language_info": {
   "codemirror_mode": {
    "name": "ipython",
    "version": 3
   },
   "file_extension": ".py",
   "mimetype": "text/x-python",
   "name": "python",
   "nbconvert_exporter": "python",
   "pygments_lexer": "ipython3",
   "version": "3.7.1"
  }
 },
 "nbformat": 4,
 "nbformat_minor": 2
}
